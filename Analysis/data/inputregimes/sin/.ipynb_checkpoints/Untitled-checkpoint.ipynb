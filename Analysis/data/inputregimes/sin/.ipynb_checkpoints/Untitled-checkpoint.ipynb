{
 "cells": [
  {
   "cell_type": "code",
   "execution_count": 1,
   "metadata": {
    "collapsed": false
   },
   "outputs": [
    {
     "name": "stdout",
     "output_type": "stream",
     "text": [
      "Populating the interactive namespace from numpy and matplotlib\n"
     ]
    }
   ],
   "source": [
    "import numpy as np\n",
    "import pandas as pd\n",
    "import matplotlib.pyplot as plt\n",
    "import seaborn\n",
    "import glob,re\n",
    "%pylab inline"
   ]
  },
  {
   "cell_type": "code",
   "execution_count": 2,
   "metadata": {
    "collapsed": true
   },
   "outputs": [],
   "source": [
    "param_pattern = re.compile(r'\\d\\d-\\d\\d-\\d\\d \\d{6}_(?P<type>sqr|tri|sqr|saw)_(?P<freq>\\d+.?\\d*)_(?P<amp>\\d+.?\\d*).*')\n",
    "def getData(subpat):\n",
    "    d = {}\n",
    "    for f in glob.glob(subpat):\n",
    "        result = param_pattern.findall(f)[0]\n",
    "        (typ,freq,amp) = result\n",
    "        freq,amp = float(freq),float(amp)\n",
    "        if(typ not in d.keys()):\n",
    "            d[typ]= {}\n",
    "        if(freq not in d[typ].keys()):\n",
    "            d[typ][freq] = {}\n",
    "        if(amp not in d[typ][freq].keys()):\n",
    "            d[typ][freq][amp] = []\n",
    "        data = pd.read_csv(f)\n",
    "        if(data.shape[0] > 0 and data.shape[1] > 0):\n",
    "            d[typ][freq][amp].append(data)\n",
    "    return d"
   ]
  },
  {
   "cell_type": "code",
   "execution_count": 3,
   "metadata": {
    "collapsed": true
   },
   "outputs": [],
   "source": [
    "def calcAveAndStd(data):\n",
    "    n = len(data)\n",
    "    \n",
    "    ave = data[0].copy()\n",
    "    for d in data[1:]:\n",
    "        ave += d.copy()\n",
    "    \n",
    "    ave = ave / n\n",
    "    \n",
    "    std = (ave - data[0].copy())**2\n",
    "    for d in data[1:]:\n",
    "        std += (ave - d.copy())**2\n",
    "    \n",
    "    std = (std / n).apply(np.sqrt)\n",
    "    std['Generation'] = ave.copy()['Generation']\n",
    "    return ave,std"
   ]
  },
  {
   "cell_type": "code",
   "execution_count": 4,
   "metadata": {
    "collapsed": true
   },
   "outputs": [],
   "source": [
    "def calcAllStats(data):\n",
    "    aves,stds = {},{}\n",
    "\n",
    "    for typ in data.keys():\n",
    "        aves[typ],stds[typ] = {},{}\n",
    "        for freq in data[typ]:\n",
    "            aves[typ][freq],stds[typ][freq] = {},{}\n",
    "            for amp in data[typ][freq]:\n",
    "                aves[typ][freq][amp],stds[typ][freq][amp] = calcAveAndStd(data[typ][freq][amp])\n",
    "    return aves,stds"
   ]
  },
  {
   "cell_type": "code",
   "execution_count": 5,
   "metadata": {
    "collapsed": true
   },
   "outputs": [],
   "source": [
    "def gaTrace(data,error,sortedKeys = None,ci_multipler = 1.95,fig=None,ax=None):\n",
    "    \n",
    "    if(sortedKeys is None):\n",
    "        sortedKeys = sorted(data.keys())\n",
    "    \n",
    "    n = len(sortedKeys)\n",
    "    \n",
    "    seaborn.set_style('white')\n",
    "    seaborn.set_context(\"paper\", font_scale=2, rc={\"lines.linewidth\": 1.5})\n",
    "    # colors = seaborn.cubehelix_palette(7, start=1, rot=-5,dark=.1, light=.5)\n",
    "    colors = seaborn.husl_palette(n,l=.4)\n",
    "    shaded = np.hstack([colors,0.25*np.ones((n,1))])\n",
    "    \n",
    "    if(fig is None or ax is None):\n",
    "        fig,ax = plt.subplots(figsize=(15,9))\n",
    "    \n",
    "    for i,k in enumerate(sortedKeys):\n",
    "        u = data[k]['Max fitness']\n",
    "        ci = error[k]['Max fitness']*ci_multipler\n",
    "\n",
    "        ax.plot(u,color=colors[i],label=k)\n",
    "        ax.fill_between(data[k]['Generation']-1,u-ci,u+ci,color=shaded[i])\n",
    "\n",
    "    return fig,ax"
   ]
  },
  {
   "cell_type": "code",
   "execution_count": 6,
   "metadata": {
    "collapsed": true
   },
   "outputs": [],
   "source": [
    "def drawAllGAPlots_amps(aves,stds):\n",
    "    for typ in aves.keys():\n",
    "        for freq in aves[typ].keys():\n",
    "            fig,ax = gaTrace(aves[typ][freq],stds[typ][freq])\n",
    "\n",
    "            plt.title(\"%s    %s\" % (typ, freq))\n",
    "            plt.ylabel('Maximum fitness')\n",
    "            plt.xlabel('Generation')\n",
    "            plt.legend(loc='lower right')\n",
    "            fig.show()"
   ]
  },
  {
   "cell_type": "code",
   "execution_count": 7,
   "metadata": {
    "collapsed": true
   },
   "outputs": [],
   "source": [
    "def getFreqSummary(aves,stds):\n",
    "    new_aves,new_stds = {},{}\n",
    "    for typ in aves.keys():\n",
    "        new_aves[typ],new_stds[typ] = {},{}\n",
    "        for freq in aves[typ]:\n",
    "            keys = list(aves[typ][freq].keys())\n",
    "            \n",
    "            new_aves[typ][freq] = aves[typ][freq][keys[0]].copy()\n",
    "            new_stds[typ][freq] = stds[typ][freq][keys[0]].copy()\n",
    "            for k in keys[1:]:\n",
    "                new_aves[typ][freq] += aves[typ][freq][k].copy()\n",
    "                new_stds[typ][freq] += stds[typ][freq][k].copy()\n",
    "                \n",
    "            new_aves[typ][freq] /= len(keys)\n",
    "            new_stds[typ][freq] /= len(keys)\n",
    "            \n",
    "    return new_aves,new_stds\n",
    "\n",
    "def drawAllGAPlots_freqs(aves,stds):\n",
    "    for typ in aves.keys():\n",
    "        fig,ax = gaTrace(aves[typ],stds[typ])\n",
    "\n",
    "        plt.title(typ)\n",
    "        plt.ylabel('Maximum fitness')\n",
    "        plt.xlabel('Generation')\n",
    "        plt.legend(loc='lower right')\n",
    "        fig.show()"
   ]
  },
  {
   "cell_type": "code",
   "execution_count": 8,
   "metadata": {
    "collapsed": false
   },
   "outputs": [
    {
     "ename": "IndexError",
     "evalue": "list index out of range",
     "output_type": "error",
     "traceback": [
      "\u001b[1;31m---------------------------------------------------------------------------\u001b[0m",
      "\u001b[1;31mIndexError\u001b[0m                                Traceback (most recent call last)",
      "\u001b[1;32m<ipython-input-8-04b7ec8ffb8d>\u001b[0m in \u001b[0;36m<module>\u001b[1;34m()\u001b[0m\n\u001b[1;32m----> 1\u001b[1;33m \u001b[0mmodelStats\u001b[0m \u001b[1;33m=\u001b[0m \u001b[0mgetData\u001b[0m\u001b[1;33m(\u001b[0m\u001b[1;34m'*/GA/modelStats*'\u001b[0m\u001b[1;33m)\u001b[0m\u001b[1;33m\u001b[0m\u001b[0m\n\u001b[0m\u001b[0;32m      2\u001b[0m \u001b[0mmodel_amp_aves\u001b[0m\u001b[1;33m,\u001b[0m\u001b[0mmodel_amp_std\u001b[0m \u001b[1;33m=\u001b[0m \u001b[0mcalcAllStats\u001b[0m\u001b[1;33m(\u001b[0m\u001b[0mmodelStats\u001b[0m\u001b[1;33m)\u001b[0m\u001b[1;33m\u001b[0m\u001b[0m\n\u001b[0;32m      3\u001b[0m \u001b[0mdrawAllGAPlots_amps\u001b[0m\u001b[1;33m(\u001b[0m\u001b[0mmodel_amp_aves\u001b[0m\u001b[1;33m,\u001b[0m\u001b[0mmodel_amp_std\u001b[0m\u001b[1;33m)\u001b[0m\u001b[1;33m\u001b[0m\u001b[0m\n",
      "\u001b[1;32m<ipython-input-2-4dffd7c850ef>\u001b[0m in \u001b[0;36mgetData\u001b[1;34m(subpat)\u001b[0m\n\u001b[0;32m      3\u001b[0m     \u001b[0md\u001b[0m \u001b[1;33m=\u001b[0m \u001b[1;33m{\u001b[0m\u001b[1;33m}\u001b[0m\u001b[1;33m\u001b[0m\u001b[0m\n\u001b[0;32m      4\u001b[0m     \u001b[1;32mfor\u001b[0m \u001b[0mf\u001b[0m \u001b[1;32min\u001b[0m \u001b[0mglob\u001b[0m\u001b[1;33m.\u001b[0m\u001b[0mglob\u001b[0m\u001b[1;33m(\u001b[0m\u001b[0msubpat\u001b[0m\u001b[1;33m)\u001b[0m\u001b[1;33m:\u001b[0m\u001b[1;33m\u001b[0m\u001b[0m\n\u001b[1;32m----> 5\u001b[1;33m         \u001b[0mresult\u001b[0m \u001b[1;33m=\u001b[0m \u001b[0mparam_pattern\u001b[0m\u001b[1;33m.\u001b[0m\u001b[0mfindall\u001b[0m\u001b[1;33m(\u001b[0m\u001b[0mf\u001b[0m\u001b[1;33m)\u001b[0m\u001b[1;33m[\u001b[0m\u001b[1;36m0\u001b[0m\u001b[1;33m]\u001b[0m\u001b[1;33m\u001b[0m\u001b[0m\n\u001b[0m\u001b[0;32m      6\u001b[0m         \u001b[1;33m(\u001b[0m\u001b[0mtyp\u001b[0m\u001b[1;33m,\u001b[0m\u001b[0mfreq\u001b[0m\u001b[1;33m,\u001b[0m\u001b[0mamp\u001b[0m\u001b[1;33m)\u001b[0m \u001b[1;33m=\u001b[0m \u001b[0mresult\u001b[0m\u001b[1;33m\u001b[0m\u001b[0m\n\u001b[0;32m      7\u001b[0m         \u001b[0mfreq\u001b[0m\u001b[1;33m,\u001b[0m\u001b[0mamp\u001b[0m \u001b[1;33m=\u001b[0m \u001b[0mfloat\u001b[0m\u001b[1;33m(\u001b[0m\u001b[0mfreq\u001b[0m\u001b[1;33m)\u001b[0m\u001b[1;33m,\u001b[0m\u001b[0mfloat\u001b[0m\u001b[1;33m(\u001b[0m\u001b[0mamp\u001b[0m\u001b[1;33m)\u001b[0m\u001b[1;33m\u001b[0m\u001b[0m\n",
      "\u001b[1;31mIndexError\u001b[0m: list index out of range"
     ]
    }
   ],
   "source": []
  },
  {
   "cell_type": "code",
   "execution_count": null,
   "metadata": {
    "collapsed": true
   },
   "outputs": [],
   "source": []
  }
 ],
 "metadata": {
  "kernelspec": {
   "display_name": "Python 3",
   "language": "python",
   "name": "python3"
  },
  "language_info": {
   "codemirror_mode": {
    "name": "ipython",
    "version": 3
   },
   "file_extension": ".py",
   "mimetype": "text/x-python",
   "name": "python",
   "nbconvert_exporter": "python",
   "pygments_lexer": "ipython3",
   "version": "3.4.0"
  }
 },
 "nbformat": 4,
 "nbformat_minor": 0
}
